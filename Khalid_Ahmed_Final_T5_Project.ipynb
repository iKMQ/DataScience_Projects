{
  "nbformat": 4,
  "nbformat_minor": 0,
  "metadata": {
    "colab": {
      "name": "Khalid/Ahmed Final T5 Project.ipynb",
      "provenance": [],
      "collapsed_sections": [
        "aISUvIwvqSTo"
      ]
    },
    "kernelspec": {
      "name": "python3",
      "display_name": "Python 3"
    },
    "language_info": {
      "name": "python"
    }
  },
  "cells": [
    {
      "cell_type": "markdown",
      "source": [
        "# Linear regression model to predict used car prices using Vehicle dataset from Kaggle:"
      ],
      "metadata": {
        "id": "KWH9FNSznCDs"
      }
    },
    {
      "cell_type": "markdown",
      "source": [
        "##Dataset"
      ],
      "metadata": {
        "id": "aISUvIwvqSTo"
      }
    },
    {
      "cell_type": "markdown",
      "source": [
        "https://www.kaggle.com/nehalbirla/vehicle-dataset-from-cardekho?select=Car+details+v3.csv"
      ],
      "metadata": {
        "id": "RfsNATBNqssW"
      }
    },
    {
      "cell_type": "markdown",
      "source": [
        "# Imports & loading the data."
      ],
      "metadata": {
        "id": "lTpHtupCnX7T"
      }
    },
    {
      "cell_type": "code",
      "source": [
        "import pandas as pd\n",
        "import numpy as np"
      ],
      "metadata": {
        "id": "76VK00CLnlGA"
      },
      "execution_count": 154,
      "outputs": []
    },
    {
      "cell_type": "code",
      "source": [
        "# Getting the data\n",
        "cars= pd.read_csv('/content/Car details v3.csv')"
      ],
      "metadata": {
        "id": "5p025Am4nulf"
      },
      "execution_count": 155,
      "outputs": []
    },
    {
      "cell_type": "markdown",
      "source": [
        "## Taking an initial look at the data."
      ],
      "metadata": {
        "id": "ZR4QRh0Us66q"
      }
    },
    {
      "cell_type": "code",
      "source": [
        "cars.head()"
      ],
      "metadata": {
        "colab": {
          "base_uri": "https://localhost:8080/",
          "height": 206
        },
        "id": "mTuNm8RGoEPP",
        "outputId": "b6999696-a779-48ea-955d-0e1d23991197"
      },
      "execution_count": 156,
      "outputs": [
        {
          "output_type": "execute_result",
          "data": {
            "text/html": [
              "\n",
              "  <div id=\"df-070d395d-b6a1-4487-aec3-c2c7a937ef74\">\n",
              "    <div class=\"colab-df-container\">\n",
              "      <div>\n",
              "<style scoped>\n",
              "    .dataframe tbody tr th:only-of-type {\n",
              "        vertical-align: middle;\n",
              "    }\n",
              "\n",
              "    .dataframe tbody tr th {\n",
              "        vertical-align: top;\n",
              "    }\n",
              "\n",
              "    .dataframe thead th {\n",
              "        text-align: right;\n",
              "    }\n",
              "</style>\n",
              "<table border=\"1\" class=\"dataframe\">\n",
              "  <thead>\n",
              "    <tr style=\"text-align: right;\">\n",
              "      <th></th>\n",
              "      <th>name</th>\n",
              "      <th>year</th>\n",
              "      <th>selling_price</th>\n",
              "      <th>km_driven</th>\n",
              "      <th>fuel</th>\n",
              "      <th>seller_type</th>\n",
              "      <th>transmission</th>\n",
              "      <th>owner</th>\n",
              "      <th>mileage</th>\n",
              "      <th>engine</th>\n",
              "      <th>max_power</th>\n",
              "      <th>torque</th>\n",
              "      <th>seats</th>\n",
              "    </tr>\n",
              "  </thead>\n",
              "  <tbody>\n",
              "    <tr>\n",
              "      <th>0</th>\n",
              "      <td>Maruti Swift Dzire VDI</td>\n",
              "      <td>2014</td>\n",
              "      <td>450000</td>\n",
              "      <td>145500</td>\n",
              "      <td>Diesel</td>\n",
              "      <td>Individual</td>\n",
              "      <td>Manual</td>\n",
              "      <td>First Owner</td>\n",
              "      <td>23.4 kmpl</td>\n",
              "      <td>1248 CC</td>\n",
              "      <td>74 bhp</td>\n",
              "      <td>190Nm@ 2000rpm</td>\n",
              "      <td>5.0</td>\n",
              "    </tr>\n",
              "    <tr>\n",
              "      <th>1</th>\n",
              "      <td>Skoda Rapid 1.5 TDI Ambition</td>\n",
              "      <td>2014</td>\n",
              "      <td>370000</td>\n",
              "      <td>120000</td>\n",
              "      <td>Diesel</td>\n",
              "      <td>Individual</td>\n",
              "      <td>Manual</td>\n",
              "      <td>Second Owner</td>\n",
              "      <td>21.14 kmpl</td>\n",
              "      <td>1498 CC</td>\n",
              "      <td>103.52 bhp</td>\n",
              "      <td>250Nm@ 1500-2500rpm</td>\n",
              "      <td>5.0</td>\n",
              "    </tr>\n",
              "    <tr>\n",
              "      <th>2</th>\n",
              "      <td>Honda City 2017-2020 EXi</td>\n",
              "      <td>2006</td>\n",
              "      <td>158000</td>\n",
              "      <td>140000</td>\n",
              "      <td>Petrol</td>\n",
              "      <td>Individual</td>\n",
              "      <td>Manual</td>\n",
              "      <td>Third Owner</td>\n",
              "      <td>17.7 kmpl</td>\n",
              "      <td>1497 CC</td>\n",
              "      <td>78 bhp</td>\n",
              "      <td>12.7@ 2,700(kgm@ rpm)</td>\n",
              "      <td>5.0</td>\n",
              "    </tr>\n",
              "    <tr>\n",
              "      <th>3</th>\n",
              "      <td>Hyundai i20 Sportz Diesel</td>\n",
              "      <td>2010</td>\n",
              "      <td>225000</td>\n",
              "      <td>127000</td>\n",
              "      <td>Diesel</td>\n",
              "      <td>Individual</td>\n",
              "      <td>Manual</td>\n",
              "      <td>First Owner</td>\n",
              "      <td>23.0 kmpl</td>\n",
              "      <td>1396 CC</td>\n",
              "      <td>90 bhp</td>\n",
              "      <td>22.4 kgm at 1750-2750rpm</td>\n",
              "      <td>5.0</td>\n",
              "    </tr>\n",
              "    <tr>\n",
              "      <th>4</th>\n",
              "      <td>Maruti Swift VXI BSIII</td>\n",
              "      <td>2007</td>\n",
              "      <td>130000</td>\n",
              "      <td>120000</td>\n",
              "      <td>Petrol</td>\n",
              "      <td>Individual</td>\n",
              "      <td>Manual</td>\n",
              "      <td>First Owner</td>\n",
              "      <td>16.1 kmpl</td>\n",
              "      <td>1298 CC</td>\n",
              "      <td>88.2 bhp</td>\n",
              "      <td>11.5@ 4,500(kgm@ rpm)</td>\n",
              "      <td>5.0</td>\n",
              "    </tr>\n",
              "  </tbody>\n",
              "</table>\n",
              "</div>\n",
              "      <button class=\"colab-df-convert\" onclick=\"convertToInteractive('df-070d395d-b6a1-4487-aec3-c2c7a937ef74')\"\n",
              "              title=\"Convert this dataframe to an interactive table.\"\n",
              "              style=\"display:none;\">\n",
              "        \n",
              "  <svg xmlns=\"http://www.w3.org/2000/svg\" height=\"24px\"viewBox=\"0 0 24 24\"\n",
              "       width=\"24px\">\n",
              "    <path d=\"M0 0h24v24H0V0z\" fill=\"none\"/>\n",
              "    <path d=\"M18.56 5.44l.94 2.06.94-2.06 2.06-.94-2.06-.94-.94-2.06-.94 2.06-2.06.94zm-11 1L8.5 8.5l.94-2.06 2.06-.94-2.06-.94L8.5 2.5l-.94 2.06-2.06.94zm10 10l.94 2.06.94-2.06 2.06-.94-2.06-.94-.94-2.06-.94 2.06-2.06.94z\"/><path d=\"M17.41 7.96l-1.37-1.37c-.4-.4-.92-.59-1.43-.59-.52 0-1.04.2-1.43.59L10.3 9.45l-7.72 7.72c-.78.78-.78 2.05 0 2.83L4 21.41c.39.39.9.59 1.41.59.51 0 1.02-.2 1.41-.59l7.78-7.78 2.81-2.81c.8-.78.8-2.07 0-2.86zM5.41 20L4 18.59l7.72-7.72 1.47 1.35L5.41 20z\"/>\n",
              "  </svg>\n",
              "      </button>\n",
              "      \n",
              "  <style>\n",
              "    .colab-df-container {\n",
              "      display:flex;\n",
              "      flex-wrap:wrap;\n",
              "      gap: 12px;\n",
              "    }\n",
              "\n",
              "    .colab-df-convert {\n",
              "      background-color: #E8F0FE;\n",
              "      border: none;\n",
              "      border-radius: 50%;\n",
              "      cursor: pointer;\n",
              "      display: none;\n",
              "      fill: #1967D2;\n",
              "      height: 32px;\n",
              "      padding: 0 0 0 0;\n",
              "      width: 32px;\n",
              "    }\n",
              "\n",
              "    .colab-df-convert:hover {\n",
              "      background-color: #E2EBFA;\n",
              "      box-shadow: 0px 1px 2px rgba(60, 64, 67, 0.3), 0px 1px 3px 1px rgba(60, 64, 67, 0.15);\n",
              "      fill: #174EA6;\n",
              "    }\n",
              "\n",
              "    [theme=dark] .colab-df-convert {\n",
              "      background-color: #3B4455;\n",
              "      fill: #D2E3FC;\n",
              "    }\n",
              "\n",
              "    [theme=dark] .colab-df-convert:hover {\n",
              "      background-color: #434B5C;\n",
              "      box-shadow: 0px 1px 3px 1px rgba(0, 0, 0, 0.15);\n",
              "      filter: drop-shadow(0px 1px 2px rgba(0, 0, 0, 0.3));\n",
              "      fill: #FFFFFF;\n",
              "    }\n",
              "  </style>\n",
              "\n",
              "      <script>\n",
              "        const buttonEl =\n",
              "          document.querySelector('#df-070d395d-b6a1-4487-aec3-c2c7a937ef74 button.colab-df-convert');\n",
              "        buttonEl.style.display =\n",
              "          google.colab.kernel.accessAllowed ? 'block' : 'none';\n",
              "\n",
              "        async function convertToInteractive(key) {\n",
              "          const element = document.querySelector('#df-070d395d-b6a1-4487-aec3-c2c7a937ef74');\n",
              "          const dataTable =\n",
              "            await google.colab.kernel.invokeFunction('convertToInteractive',\n",
              "                                                     [key], {});\n",
              "          if (!dataTable) return;\n",
              "\n",
              "          const docLinkHtml = 'Like what you see? Visit the ' +\n",
              "            '<a target=\"_blank\" href=https://colab.research.google.com/notebooks/data_table.ipynb>data table notebook</a>'\n",
              "            + ' to learn more about interactive tables.';\n",
              "          element.innerHTML = '';\n",
              "          dataTable['output_type'] = 'display_data';\n",
              "          await google.colab.output.renderOutput(dataTable, element);\n",
              "          const docLink = document.createElement('div');\n",
              "          docLink.innerHTML = docLinkHtml;\n",
              "          element.appendChild(docLink);\n",
              "        }\n",
              "      </script>\n",
              "    </div>\n",
              "  </div>\n",
              "  "
            ],
            "text/plain": [
              "                           name  year  ...                    torque  seats\n",
              "0        Maruti Swift Dzire VDI  2014  ...            190Nm@ 2000rpm    5.0\n",
              "1  Skoda Rapid 1.5 TDI Ambition  2014  ...       250Nm@ 1500-2500rpm    5.0\n",
              "2      Honda City 2017-2020 EXi  2006  ...     12.7@ 2,700(kgm@ rpm)    5.0\n",
              "3     Hyundai i20 Sportz Diesel  2010  ...  22.4 kgm at 1750-2750rpm    5.0\n",
              "4        Maruti Swift VXI BSIII  2007  ...     11.5@ 4,500(kgm@ rpm)    5.0\n",
              "\n",
              "[5 rows x 13 columns]"
            ]
          },
          "metadata": {},
          "execution_count": 156
        }
      ]
    },
    {
      "cell_type": "code",
      "source": [
        "cars.info()"
      ],
      "metadata": {
        "colab": {
          "base_uri": "https://localhost:8080/"
        },
        "id": "6xI3kvSvVIlX",
        "outputId": "d1ae9ce4-3fe2-45cd-f4fc-cfe4fd139fb5"
      },
      "execution_count": 157,
      "outputs": [
        {
          "output_type": "stream",
          "name": "stdout",
          "text": [
            "<class 'pandas.core.frame.DataFrame'>\n",
            "RangeIndex: 8128 entries, 0 to 8127\n",
            "Data columns (total 13 columns):\n",
            " #   Column         Non-Null Count  Dtype  \n",
            "---  ------         --------------  -----  \n",
            " 0   name           8128 non-null   object \n",
            " 1   year           8128 non-null   int64  \n",
            " 2   selling_price  8128 non-null   int64  \n",
            " 3   km_driven      8128 non-null   int64  \n",
            " 4   fuel           8128 non-null   object \n",
            " 5   seller_type    8128 non-null   object \n",
            " 6   transmission   8128 non-null   object \n",
            " 7   owner          8128 non-null   object \n",
            " 8   mileage        7907 non-null   object \n",
            " 9   engine         7907 non-null   object \n",
            " 10  max_power      7913 non-null   object \n",
            " 11  torque         7906 non-null   object \n",
            " 12  seats          7907 non-null   float64\n",
            "dtypes: float64(1), int64(3), object(9)\n",
            "memory usage: 825.6+ KB\n"
          ]
        }
      ]
    },
    {
      "cell_type": "markdown",
      "source": [
        "**Most features are objects that need to be cast to numerical values if possible before modeling.**"
      ],
      "metadata": {
        "id": "8-JdTPrLX2fB"
      }
    },
    {
      "cell_type": "code",
      "source": [
        "cars.name.value_counts() "
      ],
      "metadata": {
        "colab": {
          "base_uri": "https://localhost:8080/"
        },
        "id": "WcqJ8o-7Tj_C",
        "outputId": "03683d2b-eec1-4ecb-bb69-c85beacfd95f"
      },
      "execution_count": 158,
      "outputs": [
        {
          "output_type": "execute_result",
          "data": {
            "text/plain": [
              "Maruti Swift Dzire VDI               129\n",
              "Maruti Alto 800 LXI                   82\n",
              "Maruti Alto LXi                       71\n",
              "BMW X4 M Sport X xDrive20d            62\n",
              "Maruti Swift VDI                      61\n",
              "                                    ... \n",
              "Maruti Swift Dzire AMT ZXI             1\n",
              "Maruti Esteem Vxi - BSIII              1\n",
              "Maruti Swift 1.2 DLX (Only Delhi)      1\n",
              "Toyota Corolla Altis 1.8 Sport         1\n",
              "Honda Jazz Basic                       1\n",
              "Name: name, Length: 2058, dtype: int64"
            ]
          },
          "metadata": {},
          "execution_count": 158
        }
      ]
    },
    {
      "cell_type": "markdown",
      "source": [
        "**Need to drop the name column for the high variation in values and unfeasibility of cleaning or aggregation.**"
      ],
      "metadata": {
        "id": "bxA8XbjFVV0x"
      }
    },
    {
      "cell_type": "code",
      "source": [
        "cars = cars.drop('name', axis= 1) # Dropping  name col."
      ],
      "metadata": {
        "id": "Mq0GRyxiy-dW"
      },
      "execution_count": 159,
      "outputs": []
    },
    {
      "cell_type": "code",
      "source": [
        "cars.columns # Reflecting the changes done to the DF"
      ],
      "metadata": {
        "colab": {
          "base_uri": "https://localhost:8080/"
        },
        "id": "VO6DjSAjWoQS",
        "outputId": "92d85552-57dd-414f-8e22-fe321dc9483b"
      },
      "execution_count": 160,
      "outputs": [
        {
          "output_type": "execute_result",
          "data": {
            "text/plain": [
              "Index(['year', 'selling_price', 'km_driven', 'fuel', 'seller_type',\n",
              "       'transmission', 'owner', 'mileage', 'engine', 'max_power', 'torque',\n",
              "       'seats'],\n",
              "      dtype='object')"
            ]
          },
          "metadata": {},
          "execution_count": 160
        }
      ]
    },
    {
      "cell_type": "markdown",
      "source": [
        "#EDA"
      ],
      "metadata": {
        "id": "EDy-jLhSC9vG"
      }
    },
    {
      "cell_type": "code",
      "source": [
        "# visualization imports\n",
        "import matplotlib.pyplot as plt\n",
        "import seaborn as sns\n",
        "from matplotlib import style\n",
        "\n",
        "%matplotlib inline"
      ],
      "metadata": {
        "id": "TstWvdrwDEi0"
      },
      "execution_count": 161,
      "outputs": []
    },
    {
      "cell_type": "markdown",
      "source": [
        "### What cars are the most expensive? (Visualization)"
      ],
      "metadata": {
        "id": "KGhlPuYhgMEM"
      }
    },
    {
      "cell_type": "code",
      "source": [
        "style.use('ggplot')\n",
        "\n",
        "fig = plt.figure(figsize=(30,4))\n",
        "fig.suptitle('Features with varying values and their affect on price:')\n",
        "plt.subplot(1,5,1)\n",
        "plt.bar(cars.fuel, cars.selling_price, color= 'g')\n",
        "plt.ylabel('Selling Price')\n",
        "\n",
        "plt.subplot(1,5,2)\n",
        "plt.bar(cars.seller_type, cars.selling_price, color= 'r')\n",
        "\n",
        "plt.subplot(1,5,3)\n",
        "plt.bar(cars.transmission, cars.selling_price, color= 'y')\n",
        "\n",
        "plt.subplot(1,5,4)\n",
        "plt.bar(cars.seats,cars.selling_price, color= 'b')\n",
        "\n",
        "plt.subplot(1,5,5)\n",
        "plt.bar(cars.owner,cars.selling_price)"
      ],
      "metadata": {
        "id": "anJgLO5FDSA8",
        "colab": {
          "base_uri": "https://localhost:8080/",
          "height": 311
        },
        "outputId": "3fd3aab0-5a09-4f2c-d3bc-bf4a9a97c1c9"
      },
      "execution_count": 162,
      "outputs": [
        {
          "output_type": "execute_result",
          "data": {
            "text/plain": [
              "<BarContainer object of 8128 artists>"
            ]
          },
          "metadata": {},
          "execution_count": 162
        },
        {
          "output_type": "display_data",
          "data": {
            "image/png": "[encoded data removed]",
            "text/plain": [
              "<Figure size 2160x288 with 5 Axes>"
            ]
          },
          "metadata": {}
        }
      ]
    },
    {
      "cell_type": "markdown",
      "source": [
        "**Fuel**: We can see that cars running on petrol are the most expensive. Followed closely by diesel, with CNG and LPG at a signigicantly cheaper price."
      ],
      "metadata": {
        "id": "0-u8SZTmFDwv"
      }
    },
    {
      "cell_type": "markdown",
      "source": [
        "**Seller type**: Buying a used car from individuals seems like the most expensive option. dealers almost a third cheaper, and trustmark as an option seems the cheapest."
      ],
      "metadata": {
        "id": "BAiGqLpNFqBe"
      }
    },
    {
      "cell_type": "markdown",
      "source": [
        "**Transmission**: Cars with manual transmission are third the price of cars with automatic."
      ],
      "metadata": {
        "id": "VYI38uMmGTxz"
      }
    },
    {
      "cell_type": "markdown",
      "source": [
        "**Seats**: Cars with 4 passenger capacity seem the most expensive which makes sense since most luxury cars are designed with a rear center console dividing the car into 4 seats. "
      ],
      "metadata": {
        "id": "waNYqQlGH59p"
      }
    },
    {
      "cell_type": "markdown",
      "source": [
        "**Owner**: The price decreases as the car is resold which makes sense. And test drive cars are still the second most expensive following 1st owner which is understandable because test cars are subjected to hardships to **Test the reliability.**"
      ],
      "metadata": {
        "id": "L5AwO9vbdgXq"
      }
    },
    {
      "cell_type": "markdown",
      "source": [
        "**Note: cars with more than 8 seats are uncommon (outliers) and may need dropping or imputing in the Data cleaning process.**"
      ],
      "metadata": {
        "id": "2B_gVAYOJ-6V"
      }
    },
    {
      "cell_type": "code",
      "source": [
        "cars.seats[cars.seats > 8].value_counts().sum() # Rows that we are considering to drop or impute."
      ],
      "metadata": {
        "id": "nyhKTrbtHMNp",
        "colab": {
          "base_uri": "https://localhost:8080/"
        },
        "outputId": "4d17054c-fc9b-4cd7-9e1c-a9c7f1385ae1"
      },
      "execution_count": 163,
      "outputs": [
        {
          "output_type": "execute_result",
          "data": {
            "text/plain": [
              "100"
            ]
          },
          "metadata": {},
          "execution_count": 163
        }
      ]
    },
    {
      "cell_type": "code",
      "source": [
        "cars.shape"
      ],
      "metadata": {
        "id": "wfXDHoJGJUpi",
        "colab": {
          "base_uri": "https://localhost:8080/"
        },
        "outputId": "bb960274-7b3f-4ce7-cdd3-f2581c471ad5"
      },
      "execution_count": 164,
      "outputs": [
        {
          "output_type": "execute_result",
          "data": {
            "text/plain": [
              "(8128, 12)"
            ]
          },
          "metadata": {},
          "execution_count": 164
        }
      ]
    },
    {
      "cell_type": "markdown",
      "source": [
        "### Let's get the percentage these outliers represent. **(sum of outliers / total rows) x 100**"
      ],
      "metadata": {
        "id": "iN5I6XUeKUnC"
      }
    },
    {
      "cell_type": "code",
      "source": [
        "print(round((cars.seats[cars.seats > 8].value_counts().sum() / cars.shape[0]) * 100, ndigits=3,),'%')"
      ],
      "metadata": {
        "id": "r3AlX2JGJqZg",
        "colab": {
          "base_uri": "https://localhost:8080/"
        },
        "outputId": "cd56ceb4-d53d-4153-e78e-2b21f254eb94"
      },
      "execution_count": 165,
      "outputs": [
        {
          "output_type": "stream",
          "name": "stdout",
          "text": [
            "1.23 %\n"
          ]
        }
      ]
    },
    {
      "cell_type": "markdown",
      "source": [
        "Since these outliers represent only 1 percent of our data, we can drop them."
      ],
      "metadata": {
        "id": "yabmEGDRLOEF"
      }
    },
    {
      "cell_type": "markdown",
      "source": [
        "### Taking a look at missing values before moving on to **Data cleaning.**"
      ],
      "metadata": {
        "id": "-V4lXDfZMSE4"
      }
    },
    {
      "cell_type": "code",
      "source": [
        "cars.isna().sum() #Get an idea of columns with missing values."
      ],
      "metadata": {
        "id": "0XVn1ucMMgV8",
        "colab": {
          "base_uri": "https://localhost:8080/"
        },
        "outputId": "0ceef146-5f65-46be-b5b7-4946c9d56a36"
      },
      "execution_count": 166,
      "outputs": [
        {
          "output_type": "execute_result",
          "data": {
            "text/plain": [
              "year               0\n",
              "selling_price      0\n",
              "km_driven          0\n",
              "fuel               0\n",
              "seller_type        0\n",
              "transmission       0\n",
              "owner              0\n",
              "mileage          221\n",
              "engine           221\n",
              "max_power        215\n",
              "torque           222\n",
              "seats            221\n",
              "dtype: int64"
            ]
          },
          "metadata": {},
          "execution_count": 166
        }
      ]
    },
    {
      "cell_type": "code",
      "source": [
        "cars.isna().sum().sum() # the sum of all missing values."
      ],
      "metadata": {
        "id": "2LQksXCxNAG1",
        "colab": {
          "base_uri": "https://localhost:8080/"
        },
        "outputId": "df4778ac-d1cd-4256-ed4b-f315c1a25f08"
      },
      "execution_count": 167,
      "outputs": [
        {
          "output_type": "execute_result",
          "data": {
            "text/plain": [
              "1100"
            ]
          },
          "metadata": {},
          "execution_count": 167
        }
      ]
    },
    {
      "cell_type": "code",
      "source": [
        "print(round((cars.isna().sum().sum() / cars.shape[0]) * 100 , ndigits= 3) ,'%') # Getting the precentage these rows represent."
      ],
      "metadata": {
        "id": "l2B8t_onO_ro",
        "colab": {
          "base_uri": "https://localhost:8080/"
        },
        "outputId": "03f515d0-ec96-4d6e-a1db-39f48ee2c3da"
      },
      "execution_count": 168,
      "outputs": [
        {
          "output_type": "stream",
          "name": "stdout",
          "text": [
            "13.533 %\n"
          ]
        }
      ]
    },
    {
      "cell_type": "markdown",
      "source": [
        "Obviously we can't drop these rows. Unless these missing values are in the same rows, we will need to impute."
      ],
      "metadata": {
        "id": "BeA0wTHtPsXO"
      }
    },
    {
      "cell_type": "markdown",
      "source": [
        "### Looking at features to encode"
      ],
      "metadata": {
        "id": "wFlOsHMmr5Or"
      }
    },
    {
      "cell_type": "code",
      "source": [
        "cars.owner.value_counts()"
      ],
      "metadata": {
        "id": "BDZv2vGvxANK",
        "colab": {
          "base_uri": "https://localhost:8080/"
        },
        "outputId": "e7bcb0f1-e8a0-47c9-a8c6-fc49c57acaab"
      },
      "execution_count": 169,
      "outputs": [
        {
          "output_type": "execute_result",
          "data": {
            "text/plain": [
              "First Owner             5289\n",
              "Second Owner            2105\n",
              "Third Owner              555\n",
              "Fourth & Above Owner     174\n",
              "Test Drive Car             5\n",
              "Name: owner, dtype: int64"
            ]
          },
          "metadata": {},
          "execution_count": 169
        }
      ]
    },
    {
      "cell_type": "code",
      "source": [
        "cars.seller_type.value_counts()"
      ],
      "metadata": {
        "id": "4YiIOvZ6xENR",
        "colab": {
          "base_uri": "https://localhost:8080/"
        },
        "outputId": "6702ced6-250b-4378-8cf9-f8207cbff3ae"
      },
      "execution_count": 170,
      "outputs": [
        {
          "output_type": "execute_result",
          "data": {
            "text/plain": [
              "Individual          6766\n",
              "Dealer              1126\n",
              "Trustmark Dealer     236\n",
              "Name: seller_type, dtype: int64"
            ]
          },
          "metadata": {},
          "execution_count": 170
        }
      ]
    },
    {
      "cell_type": "code",
      "source": [
        "cars.fuel.value_counts()"
      ],
      "metadata": {
        "id": "NQjjRAEExRqY",
        "colab": {
          "base_uri": "https://localhost:8080/"
        },
        "outputId": "8f300c8c-7012-49f2-ae42-a9cf839607f2"
      },
      "execution_count": 171,
      "outputs": [
        {
          "output_type": "execute_result",
          "data": {
            "text/plain": [
              "Diesel    4402\n",
              "Petrol    3631\n",
              "CNG         57\n",
              "LPG         38\n",
              "Name: fuel, dtype: int64"
            ]
          },
          "metadata": {},
          "execution_count": 171
        }
      ]
    },
    {
      "cell_type": "markdown",
      "source": [
        "## Data cleaning"
      ],
      "metadata": {
        "id": "51dPYa_SvlVH"
      }
    },
    {
      "cell_type": "code",
      "source": [
        "cars.head(1)"
      ],
      "metadata": {
        "id": "qThB19CWLz3r",
        "colab": {
          "base_uri": "https://localhost:8080/",
          "height": 81
        },
        "outputId": "166d2010-5d40-4fc3-e46a-9cb6d233bf29"
      },
      "execution_count": 172,
      "outputs": [
        {
          "output_type": "execute_result",
          "data": {
            "text/html": [
              "\n",
              "  <div id=\"df-b5f4b479-9119-46c4-916a-12bc9f7d3d15\">\n",
              "    <div class=\"colab-df-container\">\n",
              "      <div>\n",
              "<style scoped>\n",
              "    .dataframe tbody tr th:only-of-type {\n",
              "        vertical-align: middle;\n",
              "    }\n",
              "\n",
              "    .dataframe tbody tr th {\n",
              "        vertical-align: top;\n",
              "    }\n",
              "\n",
              "    .dataframe thead th {\n",
              "        text-align: right;\n",
              "    }\n",
              "</style>\n",
              "<table border=\"1\" class=\"dataframe\">\n",
              "  <thead>\n",
              "    <tr style=\"text-align: right;\">\n",
              "      <th></th>\n",
              "      <th>year</th>\n",
              "      <th>selling_price</th>\n",
              "      <th>km_driven</th>\n",
              "      <th>fuel</th>\n",
              "      <th>seller_type</th>\n",
              "      <th>transmission</th>\n",
              "      <th>owner</th>\n",
              "      <th>mileage</th>\n",
              "      <th>engine</th>\n",
              "      <th>max_power</th>\n",
              "      <th>torque</th>\n",
              "      <th>seats</th>\n",
              "    </tr>\n",
              "  </thead>\n",
              "  <tbody>\n",
              "    <tr>\n",
              "      <th>0</th>\n",
              "      <td>2014</td>\n",
              "      <td>450000</td>\n",
              "      <td>145500</td>\n",
              "      <td>Diesel</td>\n",
              "      <td>Individual</td>\n",
              "      <td>Manual</td>\n",
              "      <td>First Owner</td>\n",
              "      <td>23.4 kmpl</td>\n",
              "      <td>1248 CC</td>\n",
              "      <td>74 bhp</td>\n",
              "      <td>190Nm@ 2000rpm</td>\n",
              "      <td>5.0</td>\n",
              "    </tr>\n",
              "  </tbody>\n",
              "</table>\n",
              "</div>\n",
              "      <button class=\"colab-df-convert\" onclick=\"convertToInteractive('df-b5f4b479-9119-46c4-916a-12bc9f7d3d15')\"\n",
              "              title=\"Convert this dataframe to an interactive table.\"\n",
              "              style=\"display:none;\">\n",
              "        \n",
              "  <svg xmlns=\"http://www.w3.org/2000/svg\" height=\"24px\"viewBox=\"0 0 24 24\"\n",
              "       width=\"24px\">\n",
              "    <path d=\"M0 0h24v24H0V0z\" fill=\"none\"/>\n",
              "    <path d=\"M18.56 5.44l.94 2.06.94-2.06 2.06-.94-2.06-.94-.94-2.06-.94 2.06-2.06.94zm-11 1L8.5 8.5l.94-2.06 2.06-.94-2.06-.94L8.5 2.5l-.94 2.06-2.06.94zm10 10l.94 2.06.94-2.06 2.06-.94-2.06-.94-.94-2.06-.94 2.06-2.06.94z\"/><path d=\"M17.41 7.96l-1.37-1.37c-.4-.4-.92-.59-1.43-.59-.52 0-1.04.2-1.43.59L10.3 9.45l-7.72 7.72c-.78.78-.78 2.05 0 2.83L4 21.41c.39.39.9.59 1.41.59.51 0 1.02-.2 1.41-.59l7.78-7.78 2.81-2.81c.8-.78.8-2.07 0-2.86zM5.41 20L4 18.59l7.72-7.72 1.47 1.35L5.41 20z\"/>\n",
              "  </svg>\n",
              "      </button>\n",
              "      \n",
              "  <style>\n",
              "    .colab-df-container {\n",
              "      display:flex;\n",
              "      flex-wrap:wrap;\n",
              "      gap: 12px;\n",
              "    }\n",
              "\n",
              "    .colab-df-convert {\n",
              "      background-color: #E8F0FE;\n",
              "      border: none;\n",
              "      border-radius: 50%;\n",
              "      cursor: pointer;\n",
              "      display: none;\n",
              "      fill: #1967D2;\n",
              "      height: 32px;\n",
              "      padding: 0 0 0 0;\n",
              "      width: 32px;\n",
              "    }\n",
              "\n",
              "    .colab-df-convert:hover {\n",
              "      background-color: #E2EBFA;\n",
              "      box-shadow: 0px 1px 2px rgba(60, 64, 67, 0.3), 0px 1px 3px 1px rgba(60, 64, 67, 0.15);\n",
              "      fill: #174EA6;\n",
              "    }\n",
              "\n",
              "    [theme=dark] .colab-df-convert {\n",
              "      background-color: #3B4455;\n",
              "      fill: #D2E3FC;\n",
              "    }\n",
              "\n",
              "    [theme=dark] .colab-df-convert:hover {\n",
              "      background-color: #434B5C;\n",
              "      box-shadow: 0px 1px 3px 1px rgba(0, 0, 0, 0.15);\n",
              "      filter: drop-shadow(0px 1px 2px rgba(0, 0, 0, 0.3));\n",
              "      fill: #FFFFFF;\n",
              "    }\n",
              "  </style>\n",
              "\n",
              "      <script>\n",
              "        const buttonEl =\n",
              "          document.querySelector('#df-b5f4b479-9119-46c4-916a-12bc9f7d3d15 button.colab-df-convert');\n",
              "        buttonEl.style.display =\n",
              "          google.colab.kernel.accessAllowed ? 'block' : 'none';\n",
              "\n",
              "        async function convertToInteractive(key) {\n",
              "          const element = document.querySelector('#df-b5f4b479-9119-46c4-916a-12bc9f7d3d15');\n",
              "          const dataTable =\n",
              "            await google.colab.kernel.invokeFunction('convertToInteractive',\n",
              "                                                     [key], {});\n",
              "          if (!dataTable) return;\n",
              "\n",
              "          const docLinkHtml = 'Like what you see? Visit the ' +\n",
              "            '<a target=\"_blank\" href=https://colab.research.google.com/notebooks/data_table.ipynb>data table notebook</a>'\n",
              "            + ' to learn more about interactive tables.';\n",
              "          element.innerHTML = '';\n",
              "          dataTable['output_type'] = 'display_data';\n",
              "          await google.colab.output.renderOutput(dataTable, element);\n",
              "          const docLink = document.createElement('div');\n",
              "          docLink.innerHTML = docLinkHtml;\n",
              "          element.appendChild(docLink);\n",
              "        }\n",
              "      </script>\n",
              "    </div>\n",
              "  </div>\n",
              "  "
            ],
            "text/plain": [
              "   year  selling_price  km_driven  ... max_power          torque seats\n",
              "0  2014         450000     145500  ...    74 bhp  190Nm@ 2000rpm   5.0\n",
              "\n",
              "[1 rows x 12 columns]"
            ]
          },
          "metadata": {},
          "execution_count": 172
        }
      ]
    },
    {
      "cell_type": "markdown",
      "source": [
        "###Encoding owner, transmision, seller, and fuel columns"
      ],
      "metadata": {
        "id": "PZN2UVFahBP8"
      }
    },
    {
      "cell_type": "markdown",
      "source": [
        "###Importing label encdoer"
      ],
      "metadata": {
        "id": "M3HvAIQ7xlsk"
      }
    },
    {
      "cell_type": "code",
      "source": [
        "from sklearn.preprocessing import LabelEncoder\n",
        "le = LabelEncoder()"
      ],
      "metadata": {
        "id": "tjVJEocMxjwx"
      },
      "execution_count": 173,
      "outputs": []
    },
    {
      "cell_type": "code",
      "source": [
        "cars.owner= le.fit_transform(cars.owner)\n",
        "cars.seller_type= le.fit_transform(cars.seller_type)\n",
        "cars.fuel= le.fit_transform(cars.fuel)\n",
        "cars.transmission= le.fit_transform(cars.transmission)"
      ],
      "metadata": {
        "id": "fg03zORax7sx"
      },
      "execution_count": 174,
      "outputs": []
    },
    {
      "cell_type": "code",
      "source": [
        "cars.drop(columns=['engine','torque'],inplace= True, axis=1)\n",
        "# we drop torque and engine because they convey the same idea as max_power"
      ],
      "metadata": {
        "id": "UeqtfUaauUWb"
      },
      "execution_count": 175,
      "outputs": []
    },
    {
      "cell_type": "markdown",
      "source": [
        "###Extracting numerical data from objects."
      ],
      "metadata": {
        "id": "b1Lq2lC7Cj9n"
      }
    },
    {
      "cell_type": "code",
      "source": [
        "cars.mileage = cars.mileage.str.extract('(\\d+)', expand=False)\n",
        "\n",
        "cars.max_power = cars.max_power.str.extract('(\\d+)', expand=False)\n"
      ],
      "metadata": {
        "id": "GhEVn-Ir-Jy_"
      },
      "execution_count": 176,
      "outputs": []
    },
    {
      "cell_type": "code",
      "source": [
        "cars.head(1)"
      ],
      "metadata": {
        "colab": {
          "base_uri": "https://localhost:8080/",
          "height": 81
        },
        "id": "SNbxIKf6zoWM",
        "outputId": "9b4e4857-ba78-4d96-ce84-da2bc8b61440"
      },
      "execution_count": 177,
      "outputs": [
        {
          "output_type": "execute_result",
          "data": {
            "text/html": [
              "\n",
              "  <div id=\"df-16d82019-c073-474b-a92d-7011d858cd64\">\n",
              "    <div class=\"colab-df-container\">\n",
              "      <div>\n",
              "<style scoped>\n",
              "    .dataframe tbody tr th:only-of-type {\n",
              "        vertical-align: middle;\n",
              "    }\n",
              "\n",
              "    .dataframe tbody tr th {\n",
              "        vertical-align: top;\n",
              "    }\n",
              "\n",
              "    .dataframe thead th {\n",
              "        text-align: right;\n",
              "    }\n",
              "</style>\n",
              "<table border=\"1\" class=\"dataframe\">\n",
              "  <thead>\n",
              "    <tr style=\"text-align: right;\">\n",
              "      <th></th>\n",
              "      <th>year</th>\n",
              "      <th>selling_price</th>\n",
              "      <th>km_driven</th>\n",
              "      <th>fuel</th>\n",
              "      <th>seller_type</th>\n",
              "      <th>transmission</th>\n",
              "      <th>owner</th>\n",
              "      <th>mileage</th>\n",
              "      <th>max_power</th>\n",
              "      <th>seats</th>\n",
              "    </tr>\n",
              "  </thead>\n",
              "  <tbody>\n",
              "    <tr>\n",
              "      <th>0</th>\n",
              "      <td>2014</td>\n",
              "      <td>450000</td>\n",
              "      <td>145500</td>\n",
              "      <td>1</td>\n",
              "      <td>1</td>\n",
              "      <td>1</td>\n",
              "      <td>0</td>\n",
              "      <td>23</td>\n",
              "      <td>74</td>\n",
              "      <td>5.0</td>\n",
              "    </tr>\n",
              "  </tbody>\n",
              "</table>\n",
              "</div>\n",
              "      <button class=\"colab-df-convert\" onclick=\"convertToInteractive('df-16d82019-c073-474b-a92d-7011d858cd64')\"\n",
              "              title=\"Convert this dataframe to an interactive table.\"\n",
              "              style=\"display:none;\">\n",
              "        \n",
              "  <svg xmlns=\"http://www.w3.org/2000/svg\" height=\"24px\"viewBox=\"0 0 24 24\"\n",
              "       width=\"24px\">\n",
              "    <path d=\"M0 0h24v24H0V0z\" fill=\"none\"/>\n",
              "    <path d=\"M18.56 5.44l.94 2.06.94-2.06 2.06-.94-2.06-.94-.94-2.06-.94 2.06-2.06.94zm-11 1L8.5 8.5l.94-2.06 2.06-.94-2.06-.94L8.5 2.5l-.94 2.06-2.06.94zm10 10l.94 2.06.94-2.06 2.06-.94-2.06-.94-.94-2.06-.94 2.06-2.06.94z\"/><path d=\"M17.41 7.96l-1.37-1.37c-.4-.4-.92-.59-1.43-.59-.52 0-1.04.2-1.43.59L10.3 9.45l-7.72 7.72c-.78.78-.78 2.05 0 2.83L4 21.41c.39.39.9.59 1.41.59.51 0 1.02-.2 1.41-.59l7.78-7.78 2.81-2.81c.8-.78.8-2.07 0-2.86zM5.41 20L4 18.59l7.72-7.72 1.47 1.35L5.41 20z\"/>\n",
              "  </svg>\n",
              "      </button>\n",
              "      \n",
              "  <style>\n",
              "    .colab-df-container {\n",
              "      display:flex;\n",
              "      flex-wrap:wrap;\n",
              "      gap: 12px;\n",
              "    }\n",
              "\n",
              "    .colab-df-convert {\n",
              "      background-color: #E8F0FE;\n",
              "      border: none;\n",
              "      border-radius: 50%;\n",
              "      cursor: pointer;\n",
              "      display: none;\n",
              "      fill: #1967D2;\n",
              "      height: 32px;\n",
              "      padding: 0 0 0 0;\n",
              "      width: 32px;\n",
              "    }\n",
              "\n",
              "    .colab-df-convert:hover {\n",
              "      background-color: #E2EBFA;\n",
              "      box-shadow: 0px 1px 2px rgba(60, 64, 67, 0.3), 0px 1px 3px 1px rgba(60, 64, 67, 0.15);\n",
              "      fill: #174EA6;\n",
              "    }\n",
              "\n",
              "    [theme=dark] .colab-df-convert {\n",
              "      background-color: #3B4455;\n",
              "      fill: #D2E3FC;\n",
              "    }\n",
              "\n",
              "    [theme=dark] .colab-df-convert:hover {\n",
              "      background-color: #434B5C;\n",
              "      box-shadow: 0px 1px 3px 1px rgba(0, 0, 0, 0.15);\n",
              "      filter: drop-shadow(0px 1px 2px rgba(0, 0, 0, 0.3));\n",
              "      fill: #FFFFFF;\n",
              "    }\n",
              "  </style>\n",
              "\n",
              "      <script>\n",
              "        const buttonEl =\n",
              "          document.querySelector('#df-16d82019-c073-474b-a92d-7011d858cd64 button.colab-df-convert');\n",
              "        buttonEl.style.display =\n",
              "          google.colab.kernel.accessAllowed ? 'block' : 'none';\n",
              "\n",
              "        async function convertToInteractive(key) {\n",
              "          const element = document.querySelector('#df-16d82019-c073-474b-a92d-7011d858cd64');\n",
              "          const dataTable =\n",
              "            await google.colab.kernel.invokeFunction('convertToInteractive',\n",
              "                                                     [key], {});\n",
              "          if (!dataTable) return;\n",
              "\n",
              "          const docLinkHtml = 'Like what you see? Visit the ' +\n",
              "            '<a target=\"_blank\" href=https://colab.research.google.com/notebooks/data_table.ipynb>data table notebook</a>'\n",
              "            + ' to learn more about interactive tables.';\n",
              "          element.innerHTML = '';\n",
              "          dataTable['output_type'] = 'display_data';\n",
              "          await google.colab.output.renderOutput(dataTable, element);\n",
              "          const docLink = document.createElement('div');\n",
              "          docLink.innerHTML = docLinkHtml;\n",
              "          element.appendChild(docLink);\n",
              "        }\n",
              "      </script>\n",
              "    </div>\n",
              "  </div>\n",
              "  "
            ],
            "text/plain": [
              "   year  selling_price  km_driven  fuel  ...  owner  mileage  max_power seats\n",
              "0  2014         450000     145500     1  ...      0       23         74   5.0\n",
              "\n",
              "[1 rows x 10 columns]"
            ]
          },
          "metadata": {},
          "execution_count": 177
        }
      ]
    },
    {
      "cell_type": "code",
      "source": [
        "cars.columns"
      ],
      "metadata": {
        "colab": {
          "base_uri": "https://localhost:8080/"
        },
        "id": "mb9rbkWaxlXI",
        "outputId": "e875a7c7-806f-4cc5-f13f-83bbaf107524"
      },
      "execution_count": 178,
      "outputs": [
        {
          "output_type": "execute_result",
          "data": {
            "text/plain": [
              "Index(['year', 'selling_price', 'km_driven', 'fuel', 'seller_type',\n",
              "       'transmission', 'owner', 'mileage', 'max_power', 'seats'],\n",
              "      dtype='object')"
            ]
          },
          "metadata": {},
          "execution_count": 178
        }
      ]
    },
    {
      "cell_type": "code",
      "source": [
        "cars.info()"
      ],
      "metadata": {
        "colab": {
          "base_uri": "https://localhost:8080/"
        },
        "id": "NlUYBokCnq6h",
        "outputId": "6d691cb8-481f-41f1-b842-64cf61d5cf06"
      },
      "execution_count": 179,
      "outputs": [
        {
          "output_type": "stream",
          "name": "stdout",
          "text": [
            "<class 'pandas.core.frame.DataFrame'>\n",
            "RangeIndex: 8128 entries, 0 to 8127\n",
            "Data columns (total 10 columns):\n",
            " #   Column         Non-Null Count  Dtype  \n",
            "---  ------         --------------  -----  \n",
            " 0   year           8128 non-null   int64  \n",
            " 1   selling_price  8128 non-null   int64  \n",
            " 2   km_driven      8128 non-null   int64  \n",
            " 3   fuel           8128 non-null   int64  \n",
            " 4   seller_type    8128 non-null   int64  \n",
            " 5   transmission   8128 non-null   int64  \n",
            " 6   owner          8128 non-null   int64  \n",
            " 7   mileage        7907 non-null   object \n",
            " 8   max_power      7912 non-null   object \n",
            " 9   seats          7907 non-null   float64\n",
            "dtypes: float64(1), int64(7), object(2)\n",
            "memory usage: 635.1+ KB\n"
          ]
        }
      ]
    },
    {
      "cell_type": "markdown",
      "source": [
        "###Turning objects into numpy floats"
      ],
      "metadata": {
        "id": "fmQLJvDe0UOH"
      }
    },
    {
      "cell_type": "code",
      "source": [
        "cars.mileage= cars.mileage.astype(np.float)\n",
        "cars.max_power= cars.max_power.astype(np.float)\n",
        "cars.info()"
      ],
      "metadata": {
        "colab": {
          "base_uri": "https://localhost:8080/"
        },
        "id": "4qGx-gS4noK9",
        "outputId": "9262d22f-a66d-451d-a7eb-9d2a232127d9"
      },
      "execution_count": 180,
      "outputs": [
        {
          "output_type": "stream",
          "name": "stdout",
          "text": [
            "<class 'pandas.core.frame.DataFrame'>\n",
            "RangeIndex: 8128 entries, 0 to 8127\n",
            "Data columns (total 10 columns):\n",
            " #   Column         Non-Null Count  Dtype  \n",
            "---  ------         --------------  -----  \n",
            " 0   year           8128 non-null   int64  \n",
            " 1   selling_price  8128 non-null   int64  \n",
            " 2   km_driven      8128 non-null   int64  \n",
            " 3   fuel           8128 non-null   int64  \n",
            " 4   seller_type    8128 non-null   int64  \n",
            " 5   transmission   8128 non-null   int64  \n",
            " 6   owner          8128 non-null   int64  \n",
            " 7   mileage        7907 non-null   float64\n",
            " 8   max_power      7912 non-null   float64\n",
            " 9   seats          7907 non-null   float64\n",
            "dtypes: float64(3), int64(7)\n",
            "memory usage: 635.1 KB\n"
          ]
        }
      ]
    },
    {
      "cell_type": "markdown",
      "source": [
        "###Drop missing values"
      ],
      "metadata": {
        "id": "yVHdzCbFdbj6"
      }
    },
    {
      "cell_type": "code",
      "source": [
        "cars.shape"
      ],
      "metadata": {
        "colab": {
          "base_uri": "https://localhost:8080/"
        },
        "id": "3-Fl8lVgcZoP",
        "outputId": "d81170cf-129f-463c-c536-6d36626ca4b0"
      },
      "execution_count": 181,
      "outputs": [
        {
          "output_type": "execute_result",
          "data": {
            "text/plain": [
              "(8128, 10)"
            ]
          },
          "metadata": {},
          "execution_count": 181
        }
      ]
    },
    {
      "cell_type": "code",
      "source": [
        "cars.dropna(inplace= True) #drop 2.7% of data that is na (222 rows)"
      ],
      "metadata": {
        "id": "5C7b1tSQbwpq"
      },
      "execution_count": 182,
      "outputs": []
    },
    {
      "cell_type": "code",
      "source": [
        "cars.shape"
      ],
      "metadata": {
        "colab": {
          "base_uri": "https://localhost:8080/"
        },
        "id": "t_QeIJLscdUH",
        "outputId": "633110df-0002-46d5-9918-46fb258ecc55"
      },
      "execution_count": 183,
      "outputs": [
        {
          "output_type": "execute_result",
          "data": {
            "text/plain": [
              "(7906, 10)"
            ]
          },
          "metadata": {},
          "execution_count": 183
        }
      ]
    },
    {
      "cell_type": "markdown",
      "source": [
        "###Impute outliers"
      ],
      "metadata": {
        "id": "sJSjC1g9dnhO"
      }
    },
    {
      "cell_type": "code",
      "source": [
        "cars.seats.value_counts()"
      ],
      "metadata": {
        "colab": {
          "base_uri": "https://localhost:8080/"
        },
        "id": "mcWJRQr1dQV3",
        "outputId": "b3199a36-025e-430e-d914-55ed953f8755"
      },
      "execution_count": 184,
      "outputs": [
        {
          "output_type": "execute_result",
          "data": {
            "text/plain": [
              "5.0     6254\n",
              "7.0     1120\n",
              "8.0      235\n",
              "4.0      133\n",
              "9.0       80\n",
              "6.0       62\n",
              "10.0      19\n",
              "2.0        2\n",
              "14.0       1\n",
              "Name: seats, dtype: int64"
            ]
          },
          "metadata": {},
          "execution_count": 184
        }
      ]
    },
    {
      "cell_type": "code",
      "source": [
        "cars.describe()"
      ],
      "metadata": {
        "colab": {
          "base_uri": "https://localhost:8080/",
          "height": 300
        },
        "id": "IY_k9liidvo4",
        "outputId": "cb6ca993-9ee3-4075-e2e8-2135669f2990"
      },
      "execution_count": 185,
      "outputs": [
        {
          "output_type": "execute_result",
          "data": {
            "text/html": [
              "\n",
              "  <div id=\"df-ff4000fc-8d3b-4487-b5fa-569e33df4bbf\">\n",
              "    <div class=\"colab-df-container\">\n",
              "      <div>\n",
              "<style scoped>\n",
              "    .dataframe tbody tr th:only-of-type {\n",
              "        vertical-align: middle;\n",
              "    }\n",
              "\n",
              "    .dataframe tbody tr th {\n",
              "        vertical-align: top;\n",
              "    }\n",
              "\n",
              "    .dataframe thead th {\n",
              "        text-align: right;\n",
              "    }\n",
              "</style>\n",
              "<table border=\"1\" class=\"dataframe\">\n",
              "  <thead>\n",
              "    <tr style=\"text-align: right;\">\n",
              "      <th></th>\n",
              "      <th>year</th>\n",
              "      <th>selling_price</th>\n",
              "      <th>km_driven</th>\n",
              "      <th>fuel</th>\n",
              "      <th>seller_type</th>\n",
              "      <th>transmission</th>\n",
              "      <th>owner</th>\n",
              "      <th>mileage</th>\n",
              "      <th>max_power</th>\n",
              "      <th>seats</th>\n",
              "    </tr>\n",
              "  </thead>\n",
              "  <tbody>\n",
              "    <tr>\n",
              "      <th>count</th>\n",
              "      <td>7906.000000</td>\n",
              "      <td>7.906000e+03</td>\n",
              "      <td>7.906000e+03</td>\n",
              "      <td>7906.000000</td>\n",
              "      <td>7906.000000</td>\n",
              "      <td>7906.000000</td>\n",
              "      <td>7906.000000</td>\n",
              "      <td>7906.000000</td>\n",
              "      <td>7906.000000</td>\n",
              "      <td>7906.000000</td>\n",
              "    </tr>\n",
              "    <tr>\n",
              "      <th>mean</th>\n",
              "      <td>2013.983936</td>\n",
              "      <td>6.498137e+05</td>\n",
              "      <td>6.918866e+04</td>\n",
              "      <td>1.888313</td>\n",
              "      <td>0.889831</td>\n",
              "      <td>0.868328</td>\n",
              "      <td>0.790159</td>\n",
              "      <td>18.981027</td>\n",
              "      <td>91.271060</td>\n",
              "      <td>5.416393</td>\n",
              "    </tr>\n",
              "    <tr>\n",
              "      <th>std</th>\n",
              "      <td>3.863695</td>\n",
              "      <td>8.135827e+05</td>\n",
              "      <td>5.679230e+04</td>\n",
              "      <td>1.001478</td>\n",
              "      <td>0.397182</td>\n",
              "      <td>0.338155</td>\n",
              "      <td>1.205767</td>\n",
              "      <td>4.064364</td>\n",
              "      <td>35.732781</td>\n",
              "      <td>0.959208</td>\n",
              "    </tr>\n",
              "    <tr>\n",
              "      <th>min</th>\n",
              "      <td>1994.000000</td>\n",
              "      <td>2.999900e+04</td>\n",
              "      <td>1.000000e+00</td>\n",
              "      <td>0.000000</td>\n",
              "      <td>0.000000</td>\n",
              "      <td>0.000000</td>\n",
              "      <td>0.000000</td>\n",
              "      <td>0.000000</td>\n",
              "      <td>32.000000</td>\n",
              "      <td>2.000000</td>\n",
              "    </tr>\n",
              "    <tr>\n",
              "      <th>25%</th>\n",
              "      <td>2012.000000</td>\n",
              "      <td>2.700000e+05</td>\n",
              "      <td>3.500000e+04</td>\n",
              "      <td>1.000000</td>\n",
              "      <td>1.000000</td>\n",
              "      <td>1.000000</td>\n",
              "      <td>0.000000</td>\n",
              "      <td>16.000000</td>\n",
              "      <td>68.000000</td>\n",
              "      <td>5.000000</td>\n",
              "    </tr>\n",
              "    <tr>\n",
              "      <th>50%</th>\n",
              "      <td>2015.000000</td>\n",
              "      <td>4.500000e+05</td>\n",
              "      <td>6.000000e+04</td>\n",
              "      <td>1.000000</td>\n",
              "      <td>1.000000</td>\n",
              "      <td>1.000000</td>\n",
              "      <td>0.000000</td>\n",
              "      <td>19.000000</td>\n",
              "      <td>82.000000</td>\n",
              "      <td>5.000000</td>\n",
              "    </tr>\n",
              "    <tr>\n",
              "      <th>75%</th>\n",
              "      <td>2017.000000</td>\n",
              "      <td>6.900000e+05</td>\n",
              "      <td>9.542500e+04</td>\n",
              "      <td>3.000000</td>\n",
              "      <td>1.000000</td>\n",
              "      <td>1.000000</td>\n",
              "      <td>2.000000</td>\n",
              "      <td>22.000000</td>\n",
              "      <td>102.000000</td>\n",
              "      <td>5.000000</td>\n",
              "    </tr>\n",
              "    <tr>\n",
              "      <th>max</th>\n",
              "      <td>2020.000000</td>\n",
              "      <td>1.000000e+07</td>\n",
              "      <td>2.360457e+06</td>\n",
              "      <td>3.000000</td>\n",
              "      <td>2.000000</td>\n",
              "      <td>1.000000</td>\n",
              "      <td>4.000000</td>\n",
              "      <td>42.000000</td>\n",
              "      <td>400.000000</td>\n",
              "      <td>14.000000</td>\n",
              "    </tr>\n",
              "  </tbody>\n",
              "</table>\n",
              "</div>\n",
              "      <button class=\"colab-df-convert\" onclick=\"convertToInteractive('df-ff4000fc-8d3b-4487-b5fa-569e33df4bbf')\"\n",
              "              title=\"Convert this dataframe to an interactive table.\"\n",
              "              style=\"display:none;\">\n",
              "        \n",
              "  <svg xmlns=\"http://www.w3.org/2000/svg\" height=\"24px\"viewBox=\"0 0 24 24\"\n",
              "       width=\"24px\">\n",
              "    <path d=\"M0 0h24v24H0V0z\" fill=\"none\"/>\n",
              "    <path d=\"M18.56 5.44l.94 2.06.94-2.06 2.06-.94-2.06-.94-.94-2.06-.94 2.06-2.06.94zm-11 1L8.5 8.5l.94-2.06 2.06-.94-2.06-.94L8.5 2.5l-.94 2.06-2.06.94zm10 10l.94 2.06.94-2.06 2.06-.94-2.06-.94-.94-2.06-.94 2.06-2.06.94z\"/><path d=\"M17.41 7.96l-1.37-1.37c-.4-.4-.92-.59-1.43-.59-.52 0-1.04.2-1.43.59L10.3 9.45l-7.72 7.72c-.78.78-.78 2.05 0 2.83L4 21.41c.39.39.9.59 1.41.59.51 0 1.02-.2 1.41-.59l7.78-7.78 2.81-2.81c.8-.78.8-2.07 0-2.86zM5.41 20L4 18.59l7.72-7.72 1.47 1.35L5.41 20z\"/>\n",
              "  </svg>\n",
              "      </button>\n",
              "      \n",
              "  <style>\n",
              "    .colab-df-container {\n",
              "      display:flex;\n",
              "      flex-wrap:wrap;\n",
              "      gap: 12px;\n",
              "    }\n",
              "\n",
              "    .colab-df-convert {\n",
              "      background-color: #E8F0FE;\n",
              "      border: none;\n",
              "      border-radius: 50%;\n",
              "      cursor: pointer;\n",
              "      display: none;\n",
              "      fill: #1967D2;\n",
              "      height: 32px;\n",
              "      padding: 0 0 0 0;\n",
              "      width: 32px;\n",
              "    }\n",
              "\n",
              "    .colab-df-convert:hover {\n",
              "      background-color: #E2EBFA;\n",
              "      box-shadow: 0px 1px 2px rgba(60, 64, 67, 0.3), 0px 1px 3px 1px rgba(60, 64, 67, 0.15);\n",
              "      fill: #174EA6;\n",
              "    }\n",
              "\n",
              "    [theme=dark] .colab-df-convert {\n",
              "      background-color: #3B4455;\n",
              "      fill: #D2E3FC;\n",
              "    }\n",
              "\n",
              "    [theme=dark] .colab-df-convert:hover {\n",
              "      background-color: #434B5C;\n",
              "      box-shadow: 0px 1px 3px 1px rgba(0, 0, 0, 0.15);\n",
              "      filter: drop-shadow(0px 1px 2px rgba(0, 0, 0, 0.3));\n",
              "      fill: #FFFFFF;\n",
              "    }\n",
              "  </style>\n",
              "\n",
              "      <script>\n",
              "        const buttonEl =\n",
              "          document.querySelector('#df-ff4000fc-8d3b-4487-b5fa-569e33df4bbf button.colab-df-convert');\n",
              "        buttonEl.style.display =\n",
              "          google.colab.kernel.accessAllowed ? 'block' : 'none';\n",
              "\n",
              "        async function convertToInteractive(key) {\n",
              "          const element = document.querySelector('#df-ff4000fc-8d3b-4487-b5fa-569e33df4bbf');\n",
              "          const dataTable =\n",
              "            await google.colab.kernel.invokeFunction('convertToInteractive',\n",
              "                                                     [key], {});\n",
              "          if (!dataTable) return;\n",
              "\n",
              "          const docLinkHtml = 'Like what you see? Visit the ' +\n",
              "            '<a target=\"_blank\" href=https://colab.research.google.com/notebooks/data_table.ipynb>data table notebook</a>'\n",
              "            + ' to learn more about interactive tables.';\n",
              "          element.innerHTML = '';\n",
              "          dataTable['output_type'] = 'display_data';\n",
              "          await google.colab.output.renderOutput(dataTable, element);\n",
              "          const docLink = document.createElement('div');\n",
              "          docLink.innerHTML = docLinkHtml;\n",
              "          element.appendChild(docLink);\n",
              "        }\n",
              "      </script>\n",
              "    </div>\n",
              "  </div>\n",
              "  "
            ],
            "text/plain": [
              "              year  selling_price  ...    max_power        seats\n",
              "count  7906.000000   7.906000e+03  ...  7906.000000  7906.000000\n",
              "mean   2013.983936   6.498137e+05  ...    91.271060     5.416393\n",
              "std       3.863695   8.135827e+05  ...    35.732781     0.959208\n",
              "min    1994.000000   2.999900e+04  ...    32.000000     2.000000\n",
              "25%    2012.000000   2.700000e+05  ...    68.000000     5.000000\n",
              "50%    2015.000000   4.500000e+05  ...    82.000000     5.000000\n",
              "75%    2017.000000   6.900000e+05  ...   102.000000     5.000000\n",
              "max    2020.000000   1.000000e+07  ...   400.000000    14.000000\n",
              "\n",
              "[8 rows x 10 columns]"
            ]
          },
          "metadata": {},
          "execution_count": 185
        }
      ]
    },
    {
      "cell_type": "markdown",
      "source": [
        "We notice that the mean and median are equal. We can impute using either."
      ],
      "metadata": {
        "id": "x6WOELszd28R"
      }
    },
    {
      "cell_type": "code",
      "source": [
        "cars[cars.seats > 8] = round(cars.seats.median())"
      ],
      "metadata": {
        "id": "dA7Sdff1c50a"
      },
      "execution_count": 186,
      "outputs": []
    },
    {
      "cell_type": "markdown",
      "source": [
        "## Further visualization"
      ],
      "metadata": {
        "id": "hyp0BbSe0u-X"
      }
    },
    {
      "cell_type": "markdown",
      "source": [
        "###Relationship between features and target variable"
      ],
      "metadata": {
        "id": "MskgD9p1sGaB"
      }
    },
    {
      "cell_type": "code",
      "source": [
        "plt.figure(figsize=(15,10))\n",
        "sns.heatmap(cars.corr(), annot= True, cmap= 'Blues');"
      ],
      "metadata": {
        "colab": {
          "base_uri": "https://localhost:8080/",
          "height": 0
        },
        "id": "w8Wyi2ss1r7Z",
        "outputId": "f8612eef-7814-4179-9b8a-f32c14200328"
      },
      "execution_count": 187,
      "outputs": [
        {
          "output_type": "display_data",
          "data": {
            "image/png": "[encoded data removed]",
            "text/plain": [
              "<Figure size 1080x720 with 2 Axes>"
            ]
          },
          "metadata": {}
        }
      ]
    },
    {
      "cell_type": "markdown",
      "source": [
        "### max_power (Horse power) seems to have the highest correlation with our target variable (selling_price). Realistically, km_driven should be the highest. Maybe it's because the dataset is not real or we are wrong."
      ],
      "metadata": {
        "id": "f74UZPxzfuHD"
      }
    },
    {
      "cell_type": "markdown",
      "source": [
        "###Relationship between features to detect multicollinearity"
      ],
      "metadata": {
        "id": "iyWICbNm3Dkt"
      }
    },
    {
      "cell_type": "code",
      "source": [
        "plt.figure(figsize=(15,10))\n",
        "sns.heatmap(cars.drop('selling_price',axis= 1).corr(), annot= True);"
      ],
      "metadata": {
        "colab": {
          "base_uri": "https://localhost:8080/",
          "height": 0
        },
        "id": "-iL03iCy3JJ8",
        "outputId": "5188f191-6ab8-4ca9-e10c-5754b01fb69f"
      },
      "execution_count": 188,
      "outputs": [
        {
          "output_type": "display_data",
          "data": {
            "image/png": "[encoded data removed]",
            "text/plain": [
              "<Figure size 1080x720 with 2 Axes>"
            ]
          },
          "metadata": {}
        }
      ]
    },
    {
      "cell_type": "markdown",
      "source": [
        "### It looks like we have strong multicollinearity. We will wait to see the statistical significance of each feature when we get to \"Statsmodels Regression\""
      ],
      "metadata": {
        "id": "NZ3-nteGjax5"
      }
    },
    {
      "cell_type": "markdown",
      "source": [
        "# Modeling"
      ],
      "metadata": {
        "id": "R7hPEIF4ndH1"
      }
    },
    {
      "cell_type": "markdown",
      "source": [
        "## Train test split"
      ],
      "metadata": {
        "id": "qDi9zVYansZ4"
      }
    },
    {
      "cell_type": "code",
      "source": [
        "from sklearn.model_selection import train_test_split"
      ],
      "metadata": {
        "id": "k-tWr6QGnxAO"
      },
      "execution_count": 189,
      "outputs": []
    },
    {
      "cell_type": "code",
      "source": [
        "X= cars.drop('selling_price', axis= 1) # storing the features\n",
        "y= cars.selling_price # storing target"
      ],
      "metadata": {
        "id": "h8ZDLWpXn8AE"
      },
      "execution_count": 190,
      "outputs": []
    },
    {
      "cell_type": "code",
      "source": [
        "X_train, X_test, y_train, y_test = train_test_split(X, y, test_size=0.2, random_state=42) # Training models on 80% of the data, and conducting test on 20%"
      ],
      "metadata": {
        "id": "viF-dP1Xoc14"
      },
      "execution_count": 191,
      "outputs": []
    },
    {
      "cell_type": "markdown",
      "source": [
        "## Feature scaling"
      ],
      "metadata": {
        "id": "pD0Nf2YNG_OJ"
      }
    },
    {
      "cell_type": "code",
      "source": [
        "from sklearn.preprocessing import StandardScaler # importting scaler\n",
        "ss= StandardScaler() # Instanciating StandardScaler"
      ],
      "metadata": {
        "id": "2wis4RWuHELA"
      },
      "execution_count": 192,
      "outputs": []
    },
    {
      "cell_type": "code",
      "source": [
        "X_train_scaled= ss.fit_transform(X_train) # Scaling training features\n",
        "X_test_scaled= ss.transform(X_test) # Scaling testing features"
      ],
      "metadata": {
        "id": "OYeo0Lp5IFma"
      },
      "execution_count": 193,
      "outputs": []
    },
    {
      "cell_type": "markdown",
      "source": [
        "#### **Note: We fit and transformed training set and only transformed testing set to prevent data leakage.**"
      ],
      "metadata": {
        "id": "gvB1DtF6IuZl"
      }
    },
    {
      "cell_type": "markdown",
      "source": [
        "## Importing scoring metrics"
      ],
      "metadata": {
        "id": "FWTr1P8bYlPq"
      }
    },
    {
      "cell_type": "code",
      "source": [
        "from sklearn.metrics import mean_absolute_error, mean_squared_error # Importing relevant metrics to evaluate our models"
      ],
      "metadata": {
        "id": "TU-LGN-QZoIL"
      },
      "execution_count": 194,
      "outputs": []
    },
    {
      "cell_type": "markdown",
      "source": [
        "##Statsmodles Regression"
      ],
      "metadata": {
        "id": "k3v-g0qEomoF"
      }
    },
    {
      "cell_type": "code",
      "source": [
        "import statsmodels.api as sm"
      ],
      "metadata": {
        "id": "VGG9peaNorxh"
      },
      "execution_count": 195,
      "outputs": []
    },
    {
      "cell_type": "code",
      "source": [
        "stat = sm.OLS(y,X, data= cars)\n",
        "sml= stat.fit()"
      ],
      "metadata": {
        "id": "SAHnj_WxpPpJ"
      },
      "execution_count": 196,
      "outputs": []
    },
    {
      "cell_type": "code",
      "source": [
        "sml_pred= sml.predict(X_test)"
      ],
      "metadata": {
        "id": "PSAD0CfO8AeD"
      },
      "execution_count": 197,
      "outputs": []
    },
    {
      "cell_type": "markdown",
      "source": [
        "#### Statsmodels: Model evaluation"
      ],
      "metadata": {
        "id": "zPP3_wW5TdgC"
      }
    },
    {
      "cell_type": "code",
      "source": [
        "sml.summary()"
      ],
      "metadata": {
        "colab": {
          "base_uri": "https://localhost:8080/",
          "height": 636
        },
        "id": "2VzcpIDBpedF",
        "outputId": "c462dccb-87e8-4f83-f591-c8fe369bea54"
      },
      "execution_count": 198,
      "outputs": [
        {
          "output_type": "execute_result",
          "data": {
            "text/html": [
              "<table class=\"simpletable\">\n",
              "<caption>OLS Regression Results</caption>\n",
              "<tr>\n",
              "  <th>Dep. Variable:</th>      <td>selling_price</td>  <th>  R-squared (uncentered):</th>       <td>   0.777</td>  \n",
              "</tr>\n",
              "<tr>\n",
              "  <th>Model:</th>                   <td>OLS</td>       <th>  Adj. R-squared (uncentered):</th>  <td>   0.777</td>  \n",
              "</tr>\n",
              "<tr>\n",
              "  <th>Method:</th>             <td>Least Squares</td>  <th>  F-statistic:       </th>           <td>   3055.</td>  \n",
              "</tr>\n",
              "<tr>\n",
              "  <th>Date:</th>             <td>Wed, 12 Jan 2022</td> <th>  Prob (F-statistic):</th>            <td>  0.00</td>   \n",
              "</tr>\n",
              "<tr>\n",
              "  <th>Time:</th>                 <td>19:19:26</td>     <th>  Log-Likelihood:    </th>          <td>-1.1482e+05</td>\n",
              "</tr>\n",
              "<tr>\n",
              "  <th>No. Observations:</th>      <td>  7906</td>      <th>  AIC:               </th>           <td>2.297e+05</td> \n",
              "</tr>\n",
              "<tr>\n",
              "  <th>Df Residuals:</th>          <td>  7897</td>      <th>  BIC:               </th>           <td>2.297e+05</td> \n",
              "</tr>\n",
              "<tr>\n",
              "  <th>Df Model:</th>              <td>     9</td>      <th>                     </th>               <td> </td>     \n",
              "</tr>\n",
              "<tr>\n",
              "  <th>Covariance Type:</th>      <td>nonrobust</td>    <th>                     </th>               <td> </td>     \n",
              "</tr>\n",
              "</table>\n",
              "<table class=\"simpletable\">\n",
              "<tr>\n",
              "        <td></td>          <th>coef</th>     <th>std err</th>      <th>t</th>      <th>P>|t|</th>  <th>[0.025</th>    <th>0.975]</th>  \n",
              "</tr>\n",
              "<tr>\n",
              "  <th>year</th>         <td> -849.2210</td> <td>   33.308</td> <td>  -25.496</td> <td> 0.000</td> <td> -914.514</td> <td> -783.928</td>\n",
              "</tr>\n",
              "<tr>\n",
              "  <th>km_driven</th>    <td>   -1.9440</td> <td>    0.111</td> <td>  -17.590</td> <td> 0.000</td> <td>   -2.161</td> <td>   -1.727</td>\n",
              "</tr>\n",
              "<tr>\n",
              "  <th>fuel</th>         <td> 5.086e+04</td> <td> 6366.012</td> <td>    7.990</td> <td> 0.000</td> <td> 3.84e+04</td> <td> 6.33e+04</td>\n",
              "</tr>\n",
              "<tr>\n",
              "  <th>seller_type</th>  <td>-6.242e+04</td> <td> 1.36e+04</td> <td>   -4.586</td> <td> 0.000</td> <td>-8.91e+04</td> <td>-3.57e+04</td>\n",
              "</tr>\n",
              "<tr>\n",
              "  <th>transmission</th> <td>  -1.6e+05</td> <td> 1.58e+04</td> <td>  -10.100</td> <td> 0.000</td> <td>-1.91e+05</td> <td>-1.29e+05</td>\n",
              "</tr>\n",
              "<tr>\n",
              "  <th>owner</th>        <td>-2.205e+04</td> <td> 4914.130</td> <td>   -4.486</td> <td> 0.000</td> <td>-3.17e+04</td> <td>-1.24e+04</td>\n",
              "</tr>\n",
              "<tr>\n",
              "  <th>mileage</th>      <td> 3.741e+04</td> <td> 1772.057</td> <td>   21.109</td> <td> 0.000</td> <td> 3.39e+04</td> <td> 4.09e+04</td>\n",
              "</tr>\n",
              "<tr>\n",
              "  <th>max_power</th>    <td> 1.771e+04</td> <td>  183.820</td> <td>   96.339</td> <td> 0.000</td> <td> 1.73e+04</td> <td> 1.81e+04</td>\n",
              "</tr>\n",
              "<tr>\n",
              "  <th>seats</th>        <td> 5.212e+04</td> <td> 7882.506</td> <td>    6.612</td> <td> 0.000</td> <td> 3.67e+04</td> <td> 6.76e+04</td>\n",
              "</tr>\n",
              "</table>\n",
              "<table class=\"simpletable\">\n",
              "<tr>\n",
              "  <th>Omnibus:</th>       <td>4334.358</td> <th>  Durbin-Watson:     </th> <td>   1.567</td> \n",
              "</tr>\n",
              "<tr>\n",
              "  <th>Prob(Omnibus):</th>  <td> 0.000</td>  <th>  Jarque-Bera (JB):  </th> <td>73980.236</td>\n",
              "</tr>\n",
              "<tr>\n",
              "  <th>Skew:</th>           <td> 2.254</td>  <th>  Prob(JB):          </th> <td>    0.00</td> \n",
              "</tr>\n",
              "<tr>\n",
              "  <th>Kurtosis:</th>       <td>17.292</td>  <th>  Cond. No.          </th> <td>2.91e+05</td> \n",
              "</tr>\n",
              "</table><br/><br/>Warnings:<br/>[1] Standard Errors assume that the covariance matrix of the errors is correctly specified.<br/>[2] The condition number is large, 2.91e+05. This might indicate that there are<br/>strong multicollinearity or other numerical problems."
            ],
            "text/plain": [
              "<class 'statsmodels.iolib.summary.Summary'>\n",
              "\"\"\"\n",
              "                                 OLS Regression Results                                \n",
              "=======================================================================================\n",
              "Dep. Variable:          selling_price   R-squared (uncentered):                   0.777\n",
              "Model:                            OLS   Adj. R-squared (uncentered):              0.777\n",
              "Method:                 Least Squares   F-statistic:                              3055.\n",
              "Date:                Wed, 12 Jan 2022   Prob (F-statistic):                        0.00\n",
              "Time:                        19:19:26   Log-Likelihood:                     -1.1482e+05\n",
              "No. Observations:                7906   AIC:                                  2.297e+05\n",
              "Df Residuals:                    7897   BIC:                                  2.297e+05\n",
              "Df Model:                           9                                                  \n",
              "Covariance Type:            nonrobust                                                  \n",
              "================================================================================\n",
              "                   coef    std err          t      P>|t|      [0.025      0.975]\n",
              "--------------------------------------------------------------------------------\n",
              "year          -849.2210     33.308    -25.496      0.000    -914.514    -783.928\n",
              "km_driven       -1.9440      0.111    -17.590      0.000      -2.161      -1.727\n",
              "fuel          5.086e+04   6366.012      7.990      0.000    3.84e+04    6.33e+04\n",
              "seller_type  -6.242e+04   1.36e+04     -4.586      0.000   -8.91e+04   -3.57e+04\n",
              "transmission   -1.6e+05   1.58e+04    -10.100      0.000   -1.91e+05   -1.29e+05\n",
              "owner        -2.205e+04   4914.130     -4.486      0.000   -3.17e+04   -1.24e+04\n",
              "mileage       3.741e+04   1772.057     21.109      0.000    3.39e+04    4.09e+04\n",
              "max_power     1.771e+04    183.820     96.339      0.000    1.73e+04    1.81e+04\n",
              "seats         5.212e+04   7882.506      6.612      0.000    3.67e+04    6.76e+04\n",
              "==============================================================================\n",
              "Omnibus:                     4334.358   Durbin-Watson:                   1.567\n",
              "Prob(Omnibus):                  0.000   Jarque-Bera (JB):            73980.236\n",
              "Skew:                           2.254   Prob(JB):                         0.00\n",
              "Kurtosis:                      17.292   Cond. No.                     2.91e+05\n",
              "==============================================================================\n",
              "\n",
              "Warnings:\n",
              "[1] Standard Errors assume that the covariance matrix of the errors is correctly specified.\n",
              "[2] The condition number is large, 2.91e+05. This might indicate that there are\n",
              "strong multicollinearity or other numerical problems.\n",
              "\"\"\""
            ]
          },
          "metadata": {},
          "execution_count": 198
        }
      ]
    },
    {
      "cell_type": "code",
      "source": [
        "cars['Error']= cars.selling_price - sml_pred"
      ],
      "metadata": {
        "id": "MC5CUE-sGiPO"
      },
      "execution_count": 199,
      "outputs": []
    },
    {
      "cell_type": "code",
      "source": [
        "plt.scatter(cars.selling_price, cars.Error)"
      ],
      "metadata": {
        "colab": {
          "base_uri": "https://localhost:8080/",
          "height": 306
        },
        "id": "9CtY1gfRGtmh",
        "outputId": "f9113954-e33f-4f09-bcc7-36dbdb5b4b85"
      },
      "execution_count": 200,
      "outputs": [
        {
          "output_type": "execute_result",
          "data": {
            "text/plain": [
              "<matplotlib.collections.PathCollection at 0x7f7ae764c190>"
            ]
          },
          "metadata": {},
          "execution_count": 200
        },
        {
          "output_type": "display_data",
          "data": {
            "image/png": "[encoded data removed]",
            "text/plain": [
              "<Figure size 432x288 with 1 Axes>"
            ]
          },
          "metadata": {}
        }
      ]
    },
    {
      "cell_type": "markdown",
      "source": [
        "Most data points are around zero which is good."
      ],
      "metadata": {
        "id": "6rw2nXQRwJ8H"
      }
    },
    {
      "cell_type": "code",
      "source": [
        "from sklearn.metrics import mean_squared_error, mean_absolute_error"
      ],
      "metadata": {
        "id": "mDQ-MRxQYwOp"
      },
      "execution_count": 201,
      "outputs": []
    },
    {
      "cell_type": "markdown",
      "source": [
        "## Lasso regression"
      ],
      "metadata": {
        "id": "BPHO1HfU7uIH"
      }
    },
    {
      "cell_type": "code",
      "source": [
        "from sklearn import linear_model # Importing the linear_model that contains lasso\n",
        "lasso_reg = linear_model.Lasso(alpha= 30, max_iter= 100, tol= 0.1) # Instanciating lasso"
      ],
      "metadata": {
        "id": "wSkkF5_M7xzI"
      },
      "execution_count": 202,
      "outputs": []
    },
    {
      "cell_type": "markdown",
      "source": [
        "### Fitting the model"
      ],
      "metadata": {
        "id": "iPFLVOZLdI-k"
      }
    },
    {
      "cell_type": "code",
      "source": [
        "lasso_reg.fit(X_train_scaled, y_train) # fitting the model to training set"
      ],
      "metadata": {
        "colab": {
          "base_uri": "https://localhost:8080/"
        },
        "id": "JQpXEO8OGixa",
        "outputId": "c04db5fa-fb4c-4eca-e27b-562596bef70b"
      },
      "execution_count": 203,
      "outputs": [
        {
          "output_type": "execute_result",
          "data": {
            "text/plain": [
              "Lasso(alpha=30, max_iter=100, tol=0.1)"
            ]
          },
          "metadata": {},
          "execution_count": 203
        }
      ]
    },
    {
      "cell_type": "markdown",
      "source": [
        "### Making the prediction"
      ],
      "metadata": {
        "id": "aVexRMQQcxrs"
      }
    },
    {
      "cell_type": "code",
      "source": [
        "lasso_pred= lasso_reg.predict(X_test_scaled)"
      ],
      "metadata": {
        "id": "HEicOOXqGxp7"
      },
      "execution_count": 204,
      "outputs": []
    },
    {
      "cell_type": "markdown",
      "source": [
        "###Model evaluation"
      ],
      "metadata": {
        "id": "mli_nQh3dXQ4"
      }
    },
    {
      "cell_type": "markdown",
      "source": [
        "checking score on both training and testing set to look for overfitting"
      ],
      "metadata": {
        "id": "tqqpETc2-XHi"
      }
    },
    {
      "cell_type": "code",
      "source": [
        "round(lasso_reg.score(X_test_scaled, y_test), ndigits=3)"
      ],
      "metadata": {
        "colab": {
          "base_uri": "https://localhost:8080/"
        },
        "id": "I0IZ11hW9Kst",
        "outputId": "630ba74d-e4d4-4e65-c941-4ab7da4e2e4d"
      },
      "execution_count": 205,
      "outputs": [
        {
          "output_type": "execute_result",
          "data": {
            "text/plain": [
              "0.676"
            ]
          },
          "metadata": {},
          "execution_count": 205
        }
      ]
    },
    {
      "cell_type": "code",
      "source": [
        "round(lasso_reg.score(X_train_scaled, y_train),ndigits=3)"
      ],
      "metadata": {
        "colab": {
          "base_uri": "https://localhost:8080/"
        },
        "id": "giA7HVgy9RaE",
        "outputId": "27d0830c-9a95-4adf-c435-fbf0964c72c3"
      },
      "execution_count": 206,
      "outputs": [
        {
          "output_type": "execute_result",
          "data": {
            "text/plain": [
              "0.664"
            ]
          },
          "metadata": {},
          "execution_count": 206
        }
      ]
    },
    {
      "cell_type": "code",
      "source": [
        "print('SCORE: ' ,lasso_reg.score(X_test_scaled, y_test))\n",
        "print('MSE: ' ,mean_squared_error(y_test, lasso_pred))\n",
        "print('MAE: ' ,mean_absolute_error(y_test, lasso_pred))\n",
        "print('RMSE: ' ,np.sqrt(mean_squared_error(y_test, lasso_pred)))"
      ],
      "metadata": {
        "colab": {
          "base_uri": "https://localhost:8080/"
        },
        "id": "23Gc2ZEpdkf-",
        "outputId": "ee3db652-84f8-4fee-e957-751c8711095c"
      },
      "execution_count": 211,
      "outputs": [
        {
          "output_type": "stream",
          "name": "stdout",
          "text": [
            "SCORE:  0.6764033153726259\n",
            "MSE:  226400500962.51303\n",
            "MAE:  272923.2871268818\n",
            "RMSE:  475815.6165601472\n"
          ]
        }
      ]
    },
    {
      "cell_type": "markdown",
      "source": [
        "## Random Forest regression"
      ],
      "metadata": {
        "id": "B5NaWUg0SWQG"
      }
    },
    {
      "cell_type": "code",
      "source": [
        "from sklearn.ensemble import RandomForestRegressor # Importing RandomForestRegressor\n",
        "rf= RandomForestRegressor() # Instanciating RandomForestRegressor"
      ],
      "metadata": {
        "id": "sVPw3PPeSaZ3"
      },
      "execution_count": 208,
      "outputs": []
    },
    {
      "cell_type": "code",
      "source": [
        "rf.fit(X_train, y_train) # Training the model"
      ],
      "metadata": {
        "colab": {
          "base_uri": "https://localhost:8080/"
        },
        "id": "D7gh_l16SurU",
        "outputId": "9dcc6fc5-b177-4991-dc1f-f89730ba774f"
      },
      "execution_count": 209,
      "outputs": [
        {
          "output_type": "execute_result",
          "data": {
            "text/plain": [
              "RandomForestRegressor()"
            ]
          },
          "metadata": {},
          "execution_count": 209
        }
      ]
    },
    {
      "cell_type": "markdown",
      "source": [
        "####Making the prediction"
      ],
      "metadata": {
        "id": "PxWClVviaD0c"
      }
    },
    {
      "cell_type": "code",
      "source": [
        "rf_pred= rf.predict(X_test) # Storing the prediction"
      ],
      "metadata": {
        "id": "jtKM1UWCYASI"
      },
      "execution_count": 210,
      "outputs": []
    },
    {
      "cell_type": "markdown",
      "source": [
        "###Model evaluation"
      ],
      "metadata": {
        "id": "M7GLs4qeaJjZ"
      }
    },
    {
      "cell_type": "code",
      "source": [
        "print('SCORE: ' ,rf.score(X_test, y_test))\n",
        "print('MSE: ' ,mean_squared_error(y_test, rf_pred))\n",
        "print('MAE: ' ,mean_absolute_error(y_test, rf_pred))\n",
        "print('RMSE: ' ,np.sqrt(mean_squared_error(y_test, rf_pred)))"
      ],
      "metadata": {
        "colab": {
          "base_uri": "https://localhost:8080/"
        },
        "id": "IwhTyOz8YLMG",
        "outputId": "f2e2c464-4c4c-48c3-b521-d988e813c192"
      },
      "execution_count": 212,
      "outputs": [
        {
          "output_type": "stream",
          "name": "stdout",
          "text": [
            "SCORE:  0.9816539500645555\n",
            "MSE:  12835591628.050184\n",
            "MAE:  64248.958221673645\n",
            "RMSE:  113294.27005833165\n"
          ]
        }
      ]
    },
    {
      "cell_type": "markdown",
      "source": [
        "##In the end, the model that provided the most satisfactory result is Random Forest regressor."
      ],
      "metadata": {
        "id": "dliPPGMVd-hK"
      }
    },
    {
      "cell_type": "markdown",
      "source": [
        "#Thank you for listening!"
      ],
      "metadata": {
        "id": "FKvZAWAseSKT"
      }
    }
  ]
}